{
  "nbformat": 4,
  "nbformat_minor": 0,
  "metadata": {
    "colab": {
      "name": "Stock Market Prediction And Forecasting Using Stacked LSTM.ipynb",
      "provenance": [],
      "authorship_tag": "ABX9TyOZEmDUlrFLV+BpzCfW+a0Y",
      "include_colab_link": true
    },
    "kernelspec": {
      "name": "python3",
      "display_name": "Python 3"
    },
    "language_info": {
      "name": "python"
    }
  },
  "cells": [
    {
      "cell_type": "markdown",
      "metadata": {
        "id": "view-in-github",
        "colab_type": "text"
      },
      "source": [
        "<a href=\"https://colab.research.google.com/github/Harshit1123/LGMVIP-DataScience/blob/main/Stock_Market_Prediction_And_Forecasting_Using_Stacked_LSTM.ipynb\" target=\"_parent\"><img src=\"https://colab.research.google.com/assets/colab-badge.svg\" alt=\"Open In Colab\"/></a>"
      ]
    },
    {
      "cell_type": "code",
      "metadata": {
        "id": "bEfOWtGcWJwh"
      },
      "source": [
        "import pandas as pd\n",
        "import numpy as np\n",
        "import matplotlib.pyplot as plt\n",
        "import seaborn as sns"
      ],
      "execution_count": null,
      "outputs": []
    },
    {
      "cell_type": "code",
      "metadata": {
        "colab": {
          "base_uri": "https://localhost:8080/",
          "height": 204
        },
        "id": "SYv-AF3nWbWc",
        "outputId": "e7ae0852-3880-48b2-b03a-b8a97680875a"
      },
      "source": [
        "df = pd.read_csv('https://raw.githubusercontent.com/mwitiderrick/stockprice/master/NSE-TATAGLOBAL.csv')\n",
        "df.head()"
      ],
      "execution_count": null,
      "outputs": [
        {
          "output_type": "execute_result",
          "data": {
            "text/html": [
              "<div>\n",
              "<style scoped>\n",
              "    .dataframe tbody tr th:only-of-type {\n",
              "        vertical-align: middle;\n",
              "    }\n",
              "\n",
              "    .dataframe tbody tr th {\n",
              "        vertical-align: top;\n",
              "    }\n",
              "\n",
              "    .dataframe thead th {\n",
              "        text-align: right;\n",
              "    }\n",
              "</style>\n",
              "<table border=\"1\" class=\"dataframe\">\n",
              "  <thead>\n",
              "    <tr style=\"text-align: right;\">\n",
              "      <th></th>\n",
              "      <th>Date</th>\n",
              "      <th>Open</th>\n",
              "      <th>High</th>\n",
              "      <th>Low</th>\n",
              "      <th>Last</th>\n",
              "      <th>Close</th>\n",
              "      <th>Total Trade Quantity</th>\n",
              "      <th>Turnover (Lacs)</th>\n",
              "    </tr>\n",
              "  </thead>\n",
              "  <tbody>\n",
              "    <tr>\n",
              "      <th>0</th>\n",
              "      <td>2018-09-28</td>\n",
              "      <td>234.05</td>\n",
              "      <td>235.95</td>\n",
              "      <td>230.20</td>\n",
              "      <td>233.50</td>\n",
              "      <td>233.75</td>\n",
              "      <td>3069914</td>\n",
              "      <td>7162.35</td>\n",
              "    </tr>\n",
              "    <tr>\n",
              "      <th>1</th>\n",
              "      <td>2018-09-27</td>\n",
              "      <td>234.55</td>\n",
              "      <td>236.80</td>\n",
              "      <td>231.10</td>\n",
              "      <td>233.80</td>\n",
              "      <td>233.25</td>\n",
              "      <td>5082859</td>\n",
              "      <td>11859.95</td>\n",
              "    </tr>\n",
              "    <tr>\n",
              "      <th>2</th>\n",
              "      <td>2018-09-26</td>\n",
              "      <td>240.00</td>\n",
              "      <td>240.00</td>\n",
              "      <td>232.50</td>\n",
              "      <td>235.00</td>\n",
              "      <td>234.25</td>\n",
              "      <td>2240909</td>\n",
              "      <td>5248.60</td>\n",
              "    </tr>\n",
              "    <tr>\n",
              "      <th>3</th>\n",
              "      <td>2018-09-25</td>\n",
              "      <td>233.30</td>\n",
              "      <td>236.75</td>\n",
              "      <td>232.00</td>\n",
              "      <td>236.25</td>\n",
              "      <td>236.10</td>\n",
              "      <td>2349368</td>\n",
              "      <td>5503.90</td>\n",
              "    </tr>\n",
              "    <tr>\n",
              "      <th>4</th>\n",
              "      <td>2018-09-24</td>\n",
              "      <td>233.55</td>\n",
              "      <td>239.20</td>\n",
              "      <td>230.75</td>\n",
              "      <td>234.00</td>\n",
              "      <td>233.30</td>\n",
              "      <td>3423509</td>\n",
              "      <td>7999.55</td>\n",
              "    </tr>\n",
              "  </tbody>\n",
              "</table>\n",
              "</div>"
            ],
            "text/plain": [
              "         Date    Open    High  ...   Close  Total Trade Quantity  Turnover (Lacs)\n",
              "0  2018-09-28  234.05  235.95  ...  233.75               3069914          7162.35\n",
              "1  2018-09-27  234.55  236.80  ...  233.25               5082859         11859.95\n",
              "2  2018-09-26  240.00  240.00  ...  234.25               2240909          5248.60\n",
              "3  2018-09-25  233.30  236.75  ...  236.10               2349368          5503.90\n",
              "4  2018-09-24  233.55  239.20  ...  233.30               3423509          7999.55\n",
              "\n",
              "[5 rows x 8 columns]"
            ]
          },
          "metadata": {},
          "execution_count": 7
        }
      ]
    },
    {
      "cell_type": "code",
      "metadata": {
        "id": "mBBW49K8cJs0"
      },
      "source": [
        "df = df.sort_values(by='Date', ascending=True)\n",
        "\n",
        "df.tail()"
      ],
      "execution_count": null,
      "outputs": []
    },
    {
      "cell_type": "code",
      "metadata": {
        "colab": {
          "base_uri": "https://localhost:8080/"
        },
        "id": "HLDTF8trcc8o",
        "outputId": "00d57bff-a126-49c8-8ec8-d6cbbfca6741"
      },
      "source": [
        "df.shape"
      ],
      "execution_count": null,
      "outputs": [
        {
          "output_type": "execute_result",
          "data": {
            "text/plain": [
              "(2035, 8)"
            ]
          },
          "metadata": {},
          "execution_count": 9
        }
      ]
    },
    {
      "cell_type": "code",
      "metadata": {
        "colab": {
          "base_uri": "https://localhost:8080/",
          "height": 297
        },
        "id": "-2v1ohsrdSOv",
        "outputId": "c9854b93-b084-4692-da95-a1dddac48d9c"
      },
      "source": [
        "df.describe()"
      ],
      "execution_count": null,
      "outputs": [
        {
          "output_type": "execute_result",
          "data": {
            "text/html": [
              "<div>\n",
              "<style scoped>\n",
              "    .dataframe tbody tr th:only-of-type {\n",
              "        vertical-align: middle;\n",
              "    }\n",
              "\n",
              "    .dataframe tbody tr th {\n",
              "        vertical-align: top;\n",
              "    }\n",
              "\n",
              "    .dataframe thead th {\n",
              "        text-align: right;\n",
              "    }\n",
              "</style>\n",
              "<table border=\"1\" class=\"dataframe\">\n",
              "  <thead>\n",
              "    <tr style=\"text-align: right;\">\n",
              "      <th></th>\n",
              "      <th>Open</th>\n",
              "      <th>High</th>\n",
              "      <th>Low</th>\n",
              "      <th>Last</th>\n",
              "      <th>Close</th>\n",
              "      <th>Total Trade Quantity</th>\n",
              "      <th>Turnover (Lacs)</th>\n",
              "    </tr>\n",
              "  </thead>\n",
              "  <tbody>\n",
              "    <tr>\n",
              "      <th>count</th>\n",
              "      <td>2035.000000</td>\n",
              "      <td>2035.000000</td>\n",
              "      <td>2035.000000</td>\n",
              "      <td>2035.000000</td>\n",
              "      <td>2035.00000</td>\n",
              "      <td>2.035000e+03</td>\n",
              "      <td>2035.000000</td>\n",
              "    </tr>\n",
              "    <tr>\n",
              "      <th>mean</th>\n",
              "      <td>149.713735</td>\n",
              "      <td>151.992826</td>\n",
              "      <td>147.293931</td>\n",
              "      <td>149.474251</td>\n",
              "      <td>149.45027</td>\n",
              "      <td>2.335681e+06</td>\n",
              "      <td>3899.980565</td>\n",
              "    </tr>\n",
              "    <tr>\n",
              "      <th>std</th>\n",
              "      <td>48.664509</td>\n",
              "      <td>49.413109</td>\n",
              "      <td>47.931958</td>\n",
              "      <td>48.732570</td>\n",
              "      <td>48.71204</td>\n",
              "      <td>2.091778e+06</td>\n",
              "      <td>4570.767877</td>\n",
              "    </tr>\n",
              "    <tr>\n",
              "      <th>min</th>\n",
              "      <td>81.100000</td>\n",
              "      <td>82.800000</td>\n",
              "      <td>80.000000</td>\n",
              "      <td>81.000000</td>\n",
              "      <td>80.95000</td>\n",
              "      <td>3.961000e+04</td>\n",
              "      <td>37.040000</td>\n",
              "    </tr>\n",
              "    <tr>\n",
              "      <th>25%</th>\n",
              "      <td>120.025000</td>\n",
              "      <td>122.100000</td>\n",
              "      <td>118.300000</td>\n",
              "      <td>120.075000</td>\n",
              "      <td>120.05000</td>\n",
              "      <td>1.146444e+06</td>\n",
              "      <td>1427.460000</td>\n",
              "    </tr>\n",
              "    <tr>\n",
              "      <th>50%</th>\n",
              "      <td>141.500000</td>\n",
              "      <td>143.400000</td>\n",
              "      <td>139.600000</td>\n",
              "      <td>141.100000</td>\n",
              "      <td>141.25000</td>\n",
              "      <td>1.783456e+06</td>\n",
              "      <td>2512.030000</td>\n",
              "    </tr>\n",
              "    <tr>\n",
              "      <th>75%</th>\n",
              "      <td>157.175000</td>\n",
              "      <td>159.400000</td>\n",
              "      <td>155.150000</td>\n",
              "      <td>156.925000</td>\n",
              "      <td>156.90000</td>\n",
              "      <td>2.813594e+06</td>\n",
              "      <td>4539.015000</td>\n",
              "    </tr>\n",
              "    <tr>\n",
              "      <th>max</th>\n",
              "      <td>327.700000</td>\n",
              "      <td>328.750000</td>\n",
              "      <td>321.650000</td>\n",
              "      <td>325.950000</td>\n",
              "      <td>325.75000</td>\n",
              "      <td>2.919102e+07</td>\n",
              "      <td>55755.080000</td>\n",
              "    </tr>\n",
              "  </tbody>\n",
              "</table>\n",
              "</div>"
            ],
            "text/plain": [
              "              Open         High  ...  Total Trade Quantity  Turnover (Lacs)\n",
              "count  2035.000000  2035.000000  ...          2.035000e+03      2035.000000\n",
              "mean    149.713735   151.992826  ...          2.335681e+06      3899.980565\n",
              "std      48.664509    49.413109  ...          2.091778e+06      4570.767877\n",
              "min      81.100000    82.800000  ...          3.961000e+04        37.040000\n",
              "25%     120.025000   122.100000  ...          1.146444e+06      1427.460000\n",
              "50%     141.500000   143.400000  ...          1.783456e+06      2512.030000\n",
              "75%     157.175000   159.400000  ...          2.813594e+06      4539.015000\n",
              "max     327.700000   328.750000  ...          2.919102e+07     55755.080000\n",
              "\n",
              "[8 rows x 7 columns]"
            ]
          },
          "metadata": {},
          "execution_count": 10
        }
      ]
    },
    {
      "cell_type": "code",
      "metadata": {
        "colab": {
          "base_uri": "https://localhost:8080/"
        },
        "id": "fkZjxtks6pjZ",
        "outputId": "713f9051-bd87-4eba-c537-c6fb4ab864a4"
      },
      "source": [
        "df1 = df.reset_index()['Close']\n",
        "df1.head()"
      ],
      "execution_count": null,
      "outputs": [
        {
          "output_type": "execute_result",
          "data": {
            "text/plain": [
              "0    121.55\n",
              "1    120.90\n",
              "2    120.65\n",
              "3    117.60\n",
              "4    118.65\n",
              "Name: Close, dtype: float64"
            ]
          },
          "metadata": {},
          "execution_count": 11
        }
      ]
    },
    {
      "cell_type": "code",
      "metadata": {
        "colab": {
          "base_uri": "https://localhost:8080/",
          "height": 282
        },
        "id": "NhtYjiov6-5S",
        "outputId": "d6fa3e81-7e61-4209-e9b0-3830ff1c2c4a"
      },
      "source": [
        "plt.plot(df1)"
      ],
      "execution_count": null,
      "outputs": [
        {
          "output_type": "execute_result",
          "data": {
            "text/plain": [
              "[<matplotlib.lines.Line2D at 0x7fcc4cb0db50>]"
            ]
          },
          "metadata": {},
          "execution_count": 12
        },
        {
          "output_type": "display_data",
          "data": {
            "image/png": "[encoded data removed]",
            "text/plain": [
              "<Figure size 432x288 with 1 Axes>"
            ]
          },
          "metadata": {
            "needs_background": "light"
          }
        }
      ]
    },
    {
      "cell_type": "code",
      "metadata": {
        "id": "I7rgkrBz7EpL"
      },
      "source": [
        "from sklearn.preprocessing import MinMaxScaler\n",
        "\n",
        "scaler = MinMaxScaler(feature_range = (0,1))\n",
        "\n",
        "df1 = scaler.fit_transform(np.array(df1).reshape(-1, 1))\n"
      ],
      "execution_count": null,
      "outputs": []
    },
    {
      "cell_type": "code",
      "metadata": {
        "colab": {
          "base_uri": "https://localhost:8080/"
        },
        "id": "UzJofnao7HEj",
        "outputId": "204dd15b-dc94-48a9-8195-6ba97cd81b36"
      },
      "source": [
        "df1"
      ],
      "execution_count": null,
      "outputs": [
        {
          "output_type": "execute_result",
          "data": {
            "text/plain": [
              "array([[0.16584967],\n",
              "       [0.16319444],\n",
              "       [0.1621732 ],\n",
              "       ...,\n",
              "       [0.62622549],\n",
              "       [0.62214052],\n",
              "       [0.62418301]])"
            ]
          },
          "metadata": {},
          "execution_count": 14
        }
      ]
    },
    {
      "cell_type": "code",
      "metadata": {
        "id": "TTdBeptn7w6A"
      },
      "source": [
        "def create_dataset(dataset, time_step=1):\n",
        "    \n",
        "    dataX, dataY = [], []\n",
        "    \n",
        "    for i in range(len(dataset) - time_step -1):\n",
        "        \n",
        "        a = dataset[i:(i + time_step), 0] # i = 0, 1, 2, 3\n",
        "        dataX.append(a)\n",
        "        dataY.append(dataset[i + time_step, 0])\n",
        "        \n",
        "    return np.array(dataX), np.array(dataY)"
      ],
      "execution_count": null,
      "outputs": []
    },
    {
      "cell_type": "code",
      "metadata": {
        "colab": {
          "base_uri": "https://localhost:8080/"
        },
        "id": "I_hZ4ygj71_g",
        "outputId": "470e970b-8aa8-4433-f2b5-42d43bc3d8b6"
      },
      "source": [
        "time_step = 100\n",
        "\n",
        "X_train, y_train = create_dataset(train_data, time_step)\n",
        "X_test, y_test = create_dataset(test_data, time_step)\n",
        "\n",
        "print(X_train)"
      ],
      "execution_count": null,
      "outputs": [
        {
          "output_type": "stream",
          "name": "stdout",
          "text": [
            "[[0.16584967 0.16319444 0.1621732  ... 0.14011438 0.13848039 0.12479575]\n",
            " [0.16319444 0.1621732  0.14971405 ... 0.13848039 0.12479575 0.12254902]\n",
            " [0.1621732  0.14971405 0.15400327 ... 0.12479575 0.12254902 0.13010621]\n",
            " ...\n",
            " [0.19669118 0.19505719 0.20996732 ... 0.20751634 0.20751634 0.19219771]\n",
            " [0.19505719 0.20996732 0.21098856 ... 0.20751634 0.19219771 0.18341503]\n",
            " [0.20996732 0.21098856 0.21568627 ... 0.19219771 0.18341503 0.19546569]]\n"
          ]
        }
      ]
    },
    {
      "cell_type": "code",
      "metadata": {
        "colab": {
          "base_uri": "https://localhost:8080/"
        },
        "id": "2NXZldNJ77Xz",
        "outputId": "7fa67406-d193-4cf1-884c-1df65859abf9"
      },
      "source": [
        "print(X_train.shape) \n",
        "print(y_train.shape)\n"
      ],
      "execution_count": null,
      "outputs": [
        {
          "output_type": "stream",
          "name": "stdout",
          "text": [
            "(1221, 100)\n",
            "(1221,)\n"
          ]
        }
      ]
    },
    {
      "cell_type": "code",
      "metadata": {
        "id": "tn-CQUYy7nbS"
      },
      "source": [
        "from tensorflow.keras.models import Sequential\n",
        "from tensorflow.keras.layers import Dense\n",
        "from tensorflow.keras.layers import LSTM\n",
        "model = Sequential()\n",
        "model.add(LSTM(50, return_sequences=True, input_shape=(100,1)))\n",
        "model.add(LSTM(50, return_sequences=True))\n",
        "model.add(LSTM(50))\n",
        "model.add(Dense(1))\n",
        "model.compile(loss='mean_squared_error', optimizer='adam')"
      ],
      "execution_count": null,
      "outputs": []
    },
    {
      "cell_type": "code",
      "metadata": {
        "colab": {
          "base_uri": "https://localhost:8080/"
        },
        "id": "WVPJNfUz8Oyx",
        "outputId": "0fbb339c-0ccc-4e47-8f36-19d6a178b5ba"
      },
      "source": [
        "model.summary()"
      ],
      "execution_count": null,
      "outputs": [
        {
          "output_type": "stream",
          "name": "stdout",
          "text": [
            "Model: \"sequential\"\n",
            "_________________________________________________________________\n",
            "Layer (type)                 Output Shape              Param #   \n",
            "=================================================================\n",
            "lstm (LSTM)                  (None, 100, 50)           10400     \n",
            "_________________________________________________________________\n",
            "lstm_1 (LSTM)                (None, 100, 50)           20200     \n",
            "_________________________________________________________________\n",
            "lstm_2 (LSTM)                (None, 50)                20200     \n",
            "_________________________________________________________________\n",
            "dense (Dense)                (None, 1)                 51        \n",
            "=================================================================\n",
            "Total params: 50,851\n",
            "Trainable params: 50,851\n",
            "Non-trainable params: 0\n",
            "_________________________________________________________________\n"
          ]
        }
      ]
    },
    {
      "cell_type": "code",
      "metadata": {
        "colab": {
          "base_uri": "https://localhost:8080/"
        },
        "id": "XkckIrUS8UC9",
        "outputId": "5e8a626b-eeed-4080-ae50-0aeec51d6abd"
      },
      "source": [
        "len(test_data)"
      ],
      "execution_count": null,
      "outputs": [
        {
          "output_type": "execute_result",
          "data": {
            "text/plain": [
              "713"
            ]
          },
          "metadata": {},
          "execution_count": 29
        }
      ]
    },
    {
      "cell_type": "code",
      "metadata": {
        "colab": {
          "base_uri": "https://localhost:8080/"
        },
        "id": "Y0gT57Xc9P6F",
        "outputId": "362325f8-708f-4d78-f8f5-f727776be758"
      },
      "source": [
        "x_input = test_data[613:].reshape(1, -1)\n",
        "x_input.shape"
      ],
      "execution_count": null,
      "outputs": [
        {
          "output_type": "execute_result",
          "data": {
            "text/plain": [
              "(1, 100)"
            ]
          },
          "metadata": {},
          "execution_count": 30
        }
      ]
    },
    {
      "cell_type": "code",
      "metadata": {
        "colab": {
          "base_uri": "https://localhost:8080/"
        },
        "id": "DJLEaulo9T5e",
        "outputId": "5c67dd0a-6316-4af4-d366-e9a49ecd41d0"
      },
      "source": [
        "temp_input = list(x_input)\n",
        "temp_input = temp_input[0].tolist()\n",
        "temp_input\n"
      ],
      "execution_count": null,
      "outputs": [
        {
          "output_type": "execute_result",
          "data": {
            "text/plain": [
              "[0.8527369281045751,\n",
              " 0.8621323529411764,\n",
              " 0.8345588235294117,\n",
              " 0.84375,\n",
              " 0.7146650326797386,\n",
              " 0.6605392156862745,\n",
              " 0.6542075163398693,\n",
              " 0.6803513071895424,\n",
              " 0.6689133986928104,\n",
              " 0.6642156862745099,\n",
              " 0.678921568627451,\n",
              " 0.6913807189542482,\n",
              " 0.7089460784313726,\n",
              " 0.7226307189542485,\n",
              " 0.7340686274509802,\n",
              " 0.7212009803921569,\n",
              " 0.749795751633987,\n",
              " 0.7689950980392157,\n",
              " 0.7446895424836601,\n",
              " 0.7120098039215685,\n",
              " 0.7467320261437909,\n",
              " 0.7549019607843137,\n",
              " 0.7604166666666667,\n",
              " 0.7598039215686274,\n",
              " 0.7465277777777777,\n",
              " 0.7624591503267975,\n",
              " 0.7706290849673203,\n",
              " 0.8041258169934642,\n",
              " 0.7810457516339868,\n",
              " 0.7941176470588236,\n",
              " 0.7602124183006536,\n",
              " 0.7348856209150327,\n",
              " 0.7240604575163399,\n",
              " 0.7399918300653596,\n",
              " 0.749795751633987,\n",
              " 0.7614379084967322,\n",
              " 0.7542892156862746,\n",
              " 0.7475490196078431,\n",
              " 0.769607843137255,\n",
              " 0.7495915032679739,\n",
              " 0.8171977124183007,\n",
              " 0.8020833333333335,\n",
              " 0.7773692810457518,\n",
              " 0.7571486928104576,\n",
              " 0.7937091503267975,\n",
              " 0.7916666666666667,\n",
              " 0.7714460784313726,\n",
              " 0.7526552287581698,\n",
              " 0.7269199346405228,\n",
              " 0.6629901960784313,\n",
              " 0.6819852941176472,\n",
              " 0.6441993464052288,\n",
              " 0.6215277777777778,\n",
              " 0.6439950980392156,\n",
              " 0.6631944444444445,\n",
              " 0.6754493464052289,\n",
              " 0.6370506535947713,\n",
              " 0.6460375816993464,\n",
              " 0.6589052287581699,\n",
              " 0.6587009803921569,\n",
              " 0.6779003267973858,\n",
              " 0.6319444444444445,\n",
              " 0.6311274509803921,\n",
              " 0.627859477124183,\n",
              " 0.647671568627451,\n",
              " 0.6399101307189542,\n",
              " 0.6348039215686274,\n",
              " 0.6386846405228759,\n",
              " 0.6233660130718954,\n",
              " 0.627450980392157,\n",
              " 0.6397058823529412,\n",
              " 0.6470588235294118,\n",
              " 0.661968954248366,\n",
              " 0.6707516339869282,\n",
              " 0.6519607843137255,\n",
              " 0.6311274509803921,\n",
              " 0.6129493464052288,\n",
              " 0.6376633986928105,\n",
              " 0.6225490196078431,\n",
              " 0.627450980392157,\n",
              " 0.6333741830065359,\n",
              " 0.6264297385620916,\n",
              " 0.6362336601307189,\n",
              " 0.5831290849673202,\n",
              " 0.5778186274509804,\n",
              " 0.5723039215686275,\n",
              " 0.5800653594771241,\n",
              " 0.5761846405228758,\n",
              " 0.5516748366013072,\n",
              " 0.5788398692810458,\n",
              " 0.625,\n",
              " 0.6358251633986928,\n",
              " 0.6294934640522877,\n",
              " 0.6288807189542484,\n",
              " 0.6276552287581699,\n",
              " 0.6223447712418301,\n",
              " 0.6337826797385621,\n",
              " 0.6262254901960784,\n",
              " 0.622140522875817,\n",
              " 0.6241830065359477]"
            ]
          },
          "metadata": {},
          "execution_count": 31
        }
      ]
    },
    {
      "cell_type": "code",
      "metadata": {
        "colab": {
          "base_uri": "https://localhost:8080/"
        },
        "id": "EJ9svyz-9cD8",
        "outputId": "02ed83db-483a-48d0-916c-87260372905c"
      },
      "source": [
        "from numpy import array\n",
        "\n",
        "lst_output = []\n",
        "n_steps = 100\n",
        "i = 0\n",
        "\n",
        "while (i<30):\n",
        "\n",
        "  if (len(temp_input)>100):\n",
        "\n",
        "    # print(tem_input)\n",
        "    x_input = np.array(temp_input[1:])\n",
        "    print(\"{} day input {}\".format(i, x_input))\n",
        "    x_input = x_input.reshape(1, -1)\n",
        "    x_input = x_input.reshape((1, n_steps, 1))\n",
        "    # print(x_input)\n",
        "\n",
        "    yhat = model.predict(x_input, verbose=0)\n",
        "    print(\"{} day output {}\".format(i, yhat))\n",
        "    temp_input.extend(yhat[0].tolist())\n",
        "    temp_input = temp_input[1:]\n",
        "    # print(temp_input)\n",
        "\n",
        "    lst_output.extend(yhat.tolist())\n",
        "    i = i + 1\n",
        "\n",
        "  else:\n",
        "\n",
        "    x_input = x_input.reshape((1, n_steps, 1))\n",
        "    \n",
        "    yhat = model.predict(x_input, verbose=0)\n",
        "    print(yhat[0])\n",
        "    \n",
        "    temp_input.extend(yhat[0].tolist())\n",
        "    print(len(temp_input))\n",
        "\n",
        "    lst_output.extend(yhat.tolist())\n",
        "    i = i+1"
      ],
      "execution_count": null,
      "outputs": [
        {
          "output_type": "stream",
          "name": "stdout",
          "text": [
            "[-0.0620781]\n",
            "101\n",
            "1 day input [ 0.86213235  0.83455882  0.84375     0.71466503  0.66053922  0.65420752\n",
            "  0.68035131  0.6689134   0.66421569  0.67892157  0.69138072  0.70894608\n",
            "  0.72263072  0.73406863  0.72120098  0.74979575  0.7689951   0.74468954\n",
            "  0.7120098   0.74673203  0.75490196  0.76041667  0.75980392  0.74652778\n",
            "  0.76245915  0.77062908  0.80412582  0.78104575  0.79411765  0.76021242\n",
            "  0.73488562  0.72406046  0.73999183  0.74979575  0.76143791  0.75428922\n",
            "  0.74754902  0.76960784  0.7495915   0.81719771  0.80208333  0.77736928\n",
            "  0.75714869  0.79370915  0.79166667  0.77144608  0.75265523  0.72691993\n",
            "  0.6629902   0.68198529  0.64419935  0.62152778  0.6439951   0.66319444\n",
            "  0.67544935  0.63705065  0.64603758  0.65890523  0.65870098  0.67790033\n",
            "  0.63194444  0.63112745  0.62785948  0.64767157  0.63991013  0.63480392\n",
            "  0.63868464  0.62336601  0.62745098  0.63970588  0.64705882  0.66196895\n",
            "  0.67075163  0.65196078  0.63112745  0.61294935  0.6376634   0.62254902\n",
            "  0.62745098  0.63337418  0.62642974  0.63623366  0.58312908  0.57781863\n",
            "  0.57230392  0.58006536  0.57618464  0.55167484  0.57883987  0.625\n",
            "  0.63582516  0.62949346  0.62888072  0.62765523  0.62234477  0.63378268\n",
            "  0.62622549  0.62214052  0.62418301 -0.0620781 ]\n",
            "1 day output [[-0.06149163]]\n",
            "2 day input [ 0.83455882  0.84375     0.71466503  0.66053922  0.65420752  0.68035131\n",
            "  0.6689134   0.66421569  0.67892157  0.69138072  0.70894608  0.72263072\n",
            "  0.73406863  0.72120098  0.74979575  0.7689951   0.74468954  0.7120098\n",
            "  0.74673203  0.75490196  0.76041667  0.75980392  0.74652778  0.76245915\n",
            "  0.77062908  0.80412582  0.78104575  0.79411765  0.76021242  0.73488562\n",
            "  0.72406046  0.73999183  0.74979575  0.76143791  0.75428922  0.74754902\n",
            "  0.76960784  0.7495915   0.81719771  0.80208333  0.77736928  0.75714869\n",
            "  0.79370915  0.79166667  0.77144608  0.75265523  0.72691993  0.6629902\n",
            "  0.68198529  0.64419935  0.62152778  0.6439951   0.66319444  0.67544935\n",
            "  0.63705065  0.64603758  0.65890523  0.65870098  0.67790033  0.63194444\n",
            "  0.63112745  0.62785948  0.64767157  0.63991013  0.63480392  0.63868464\n",
            "  0.62336601  0.62745098  0.63970588  0.64705882  0.66196895  0.67075163\n",
            "  0.65196078  0.63112745  0.61294935  0.6376634   0.62254902  0.62745098\n",
            "  0.63337418  0.62642974  0.63623366  0.58312908  0.57781863  0.57230392\n",
            "  0.58006536  0.57618464  0.55167484  0.57883987  0.625       0.63582516\n",
            "  0.62949346  0.62888072  0.62765523  0.62234477  0.63378268  0.62622549\n",
            "  0.62214052  0.62418301 -0.0620781  -0.06149163]\n",
            "2 day output [[-0.05994388]]\n",
            "3 day input [ 0.84375     0.71466503  0.66053922  0.65420752  0.68035131  0.6689134\n",
            "  0.66421569  0.67892157  0.69138072  0.70894608  0.72263072  0.73406863\n",
            "  0.72120098  0.74979575  0.7689951   0.74468954  0.7120098   0.74673203\n",
            "  0.75490196  0.76041667  0.75980392  0.74652778  0.76245915  0.77062908\n",
            "  0.80412582  0.78104575  0.79411765  0.76021242  0.73488562  0.72406046\n",
            "  0.73999183  0.74979575  0.76143791  0.75428922  0.74754902  0.76960784\n",
            "  0.7495915   0.81719771  0.80208333  0.77736928  0.75714869  0.79370915\n",
            "  0.79166667  0.77144608  0.75265523  0.72691993  0.6629902   0.68198529\n",
            "  0.64419935  0.62152778  0.6439951   0.66319444  0.67544935  0.63705065\n",
            "  0.64603758  0.65890523  0.65870098  0.67790033  0.63194444  0.63112745\n",
            "  0.62785948  0.64767157  0.63991013  0.63480392  0.63868464  0.62336601\n",
            "  0.62745098  0.63970588  0.64705882  0.66196895  0.67075163  0.65196078\n",
            "  0.63112745  0.61294935  0.6376634   0.62254902  0.62745098  0.63337418\n",
            "  0.62642974  0.63623366  0.58312908  0.57781863  0.57230392  0.58006536\n",
            "  0.57618464  0.55167484  0.57883987  0.625       0.63582516  0.62949346\n",
            "  0.62888072  0.62765523  0.62234477  0.63378268  0.62622549  0.62214052\n",
            "  0.62418301 -0.0620781  -0.06149163 -0.05994388]\n",
            "3 day output [[-0.05742507]]\n",
            "4 day input [ 0.71466503  0.66053922  0.65420752  0.68035131  0.6689134   0.66421569\n",
            "  0.67892157  0.69138072  0.70894608  0.72263072  0.73406863  0.72120098\n",
            "  0.74979575  0.7689951   0.74468954  0.7120098   0.74673203  0.75490196\n",
            "  0.76041667  0.75980392  0.74652778  0.76245915  0.77062908  0.80412582\n",
            "  0.78104575  0.79411765  0.76021242  0.73488562  0.72406046  0.73999183\n",
            "  0.74979575  0.76143791  0.75428922  0.74754902  0.76960784  0.7495915\n",
            "  0.81719771  0.80208333  0.77736928  0.75714869  0.79370915  0.79166667\n",
            "  0.77144608  0.75265523  0.72691993  0.6629902   0.68198529  0.64419935\n",
            "  0.62152778  0.6439951   0.66319444  0.67544935  0.63705065  0.64603758\n",
            "  0.65890523  0.65870098  0.67790033  0.63194444  0.63112745  0.62785948\n",
            "  0.64767157  0.63991013  0.63480392  0.63868464  0.62336601  0.62745098\n",
            "  0.63970588  0.64705882  0.66196895  0.67075163  0.65196078  0.63112745\n",
            "  0.61294935  0.6376634   0.62254902  0.62745098  0.63337418  0.62642974\n",
            "  0.63623366  0.58312908  0.57781863  0.57230392  0.58006536  0.57618464\n",
            "  0.55167484  0.57883987  0.625       0.63582516  0.62949346  0.62888072\n",
            "  0.62765523  0.62234477  0.63378268  0.62622549  0.62214052  0.62418301\n",
            " -0.0620781  -0.06149163 -0.05994388 -0.05742507]\n",
            "4 day output [[-0.05406941]]\n",
            "5 day input [ 0.66053922  0.65420752  0.68035131  0.6689134   0.66421569  0.67892157\n",
            "  0.69138072  0.70894608  0.72263072  0.73406863  0.72120098  0.74979575\n",
            "  0.7689951   0.74468954  0.7120098   0.74673203  0.75490196  0.76041667\n",
            "  0.75980392  0.74652778  0.76245915  0.77062908  0.80412582  0.78104575\n",
            "  0.79411765  0.76021242  0.73488562  0.72406046  0.73999183  0.74979575\n",
            "  0.76143791  0.75428922  0.74754902  0.76960784  0.7495915   0.81719771\n",
            "  0.80208333  0.77736928  0.75714869  0.79370915  0.79166667  0.77144608\n",
            "  0.75265523  0.72691993  0.6629902   0.68198529  0.64419935  0.62152778\n",
            "  0.6439951   0.66319444  0.67544935  0.63705065  0.64603758  0.65890523\n",
            "  0.65870098  0.67790033  0.63194444  0.63112745  0.62785948  0.64767157\n",
            "  0.63991013  0.63480392  0.63868464  0.62336601  0.62745098  0.63970588\n",
            "  0.64705882  0.66196895  0.67075163  0.65196078  0.63112745  0.61294935\n",
            "  0.6376634   0.62254902  0.62745098  0.63337418  0.62642974  0.63623366\n",
            "  0.58312908  0.57781863  0.57230392  0.58006536  0.57618464  0.55167484\n",
            "  0.57883987  0.625       0.63582516  0.62949346  0.62888072  0.62765523\n",
            "  0.62234477  0.63378268  0.62622549  0.62214052  0.62418301 -0.0620781\n",
            " -0.06149163 -0.05994388 -0.05742507 -0.05406941]\n",
            "5 day output [[-0.050084]]\n",
            "6 day input [ 0.65420752  0.68035131  0.6689134   0.66421569  0.67892157  0.69138072\n",
            "  0.70894608  0.72263072  0.73406863  0.72120098  0.74979575  0.7689951\n",
            "  0.74468954  0.7120098   0.74673203  0.75490196  0.76041667  0.75980392\n",
            "  0.74652778  0.76245915  0.77062908  0.80412582  0.78104575  0.79411765\n",
            "  0.76021242  0.73488562  0.72406046  0.73999183  0.74979575  0.76143791\n",
            "  0.75428922  0.74754902  0.76960784  0.7495915   0.81719771  0.80208333\n",
            "  0.77736928  0.75714869  0.79370915  0.79166667  0.77144608  0.75265523\n",
            "  0.72691993  0.6629902   0.68198529  0.64419935  0.62152778  0.6439951\n",
            "  0.66319444  0.67544935  0.63705065  0.64603758  0.65890523  0.65870098\n",
            "  0.67790033  0.63194444  0.63112745  0.62785948  0.64767157  0.63991013\n",
            "  0.63480392  0.63868464  0.62336601  0.62745098  0.63970588  0.64705882\n",
            "  0.66196895  0.67075163  0.65196078  0.63112745  0.61294935  0.6376634\n",
            "  0.62254902  0.62745098  0.63337418  0.62642974  0.63623366  0.58312908\n",
            "  0.57781863  0.57230392  0.58006536  0.57618464  0.55167484  0.57883987\n",
            "  0.625       0.63582516  0.62949346  0.62888072  0.62765523  0.62234477\n",
            "  0.63378268  0.62622549  0.62214052  0.62418301 -0.0620781  -0.06149163\n",
            " -0.05994388 -0.05742507 -0.05406941 -0.050084  ]\n",
            "6 day output [[-0.04569551]]\n",
            "7 day input [ 0.68035131  0.6689134   0.66421569  0.67892157  0.69138072  0.70894608\n",
            "  0.72263072  0.73406863  0.72120098  0.74979575  0.7689951   0.74468954\n",
            "  0.7120098   0.74673203  0.75490196  0.76041667  0.75980392  0.74652778\n",
            "  0.76245915  0.77062908  0.80412582  0.78104575  0.79411765  0.76021242\n",
            "  0.73488562  0.72406046  0.73999183  0.74979575  0.76143791  0.75428922\n",
            "  0.74754902  0.76960784  0.7495915   0.81719771  0.80208333  0.77736928\n",
            "  0.75714869  0.79370915  0.79166667  0.77144608  0.75265523  0.72691993\n",
            "  0.6629902   0.68198529  0.64419935  0.62152778  0.6439951   0.66319444\n",
            "  0.67544935  0.63705065  0.64603758  0.65890523  0.65870098  0.67790033\n",
            "  0.63194444  0.63112745  0.62785948  0.64767157  0.63991013  0.63480392\n",
            "  0.63868464  0.62336601  0.62745098  0.63970588  0.64705882  0.66196895\n",
            "  0.67075163  0.65196078  0.63112745  0.61294935  0.6376634   0.62254902\n",
            "  0.62745098  0.63337418  0.62642974  0.63623366  0.58312908  0.57781863\n",
            "  0.57230392  0.58006536  0.57618464  0.55167484  0.57883987  0.625\n",
            "  0.63582516  0.62949346  0.62888072  0.62765523  0.62234477  0.63378268\n",
            "  0.62622549  0.62214052  0.62418301 -0.0620781  -0.06149163 -0.05994388\n",
            " -0.05742507 -0.05406941 -0.050084   -0.04569551]\n",
            "7 day output [[-0.0411161]]\n",
            "8 day input [ 0.6689134   0.66421569  0.67892157  0.69138072  0.70894608  0.72263072\n",
            "  0.73406863  0.72120098  0.74979575  0.7689951   0.74468954  0.7120098\n",
            "  0.74673203  0.75490196  0.76041667  0.75980392  0.74652778  0.76245915\n",
            "  0.77062908  0.80412582  0.78104575  0.79411765  0.76021242  0.73488562\n",
            "  0.72406046  0.73999183  0.74979575  0.76143791  0.75428922  0.74754902\n",
            "  0.76960784  0.7495915   0.81719771  0.80208333  0.77736928  0.75714869\n",
            "  0.79370915  0.79166667  0.77144608  0.75265523  0.72691993  0.6629902\n",
            "  0.68198529  0.64419935  0.62152778  0.6439951   0.66319444  0.67544935\n",
            "  0.63705065  0.64603758  0.65890523  0.65870098  0.67790033  0.63194444\n",
            "  0.63112745  0.62785948  0.64767157  0.63991013  0.63480392  0.63868464\n",
            "  0.62336601  0.62745098  0.63970588  0.64705882  0.66196895  0.67075163\n",
            "  0.65196078  0.63112745  0.61294935  0.6376634   0.62254902  0.62745098\n",
            "  0.63337418  0.62642974  0.63623366  0.58312908  0.57781863  0.57230392\n",
            "  0.58006536  0.57618464  0.55167484  0.57883987  0.625       0.63582516\n",
            "  0.62949346  0.62888072  0.62765523  0.62234477  0.63378268  0.62622549\n",
            "  0.62214052  0.62418301 -0.0620781  -0.06149163 -0.05994388 -0.05742507\n",
            " -0.05406941 -0.050084   -0.04569551 -0.0411161 ]\n",
            "8 day output [[-0.03652566]]\n",
            "9 day input [ 0.66421569  0.67892157  0.69138072  0.70894608  0.72263072  0.73406863\n",
            "  0.72120098  0.74979575  0.7689951   0.74468954  0.7120098   0.74673203\n",
            "  0.75490196  0.76041667  0.75980392  0.74652778  0.76245915  0.77062908\n",
            "  0.80412582  0.78104575  0.79411765  0.76021242  0.73488562  0.72406046\n",
            "  0.73999183  0.74979575  0.76143791  0.75428922  0.74754902  0.76960784\n",
            "  0.7495915   0.81719771  0.80208333  0.77736928  0.75714869  0.79370915\n",
            "  0.79166667  0.77144608  0.75265523  0.72691993  0.6629902   0.68198529\n",
            "  0.64419935  0.62152778  0.6439951   0.66319444  0.67544935  0.63705065\n",
            "  0.64603758  0.65890523  0.65870098  0.67790033  0.63194444  0.63112745\n",
            "  0.62785948  0.64767157  0.63991013  0.63480392  0.63868464  0.62336601\n",
            "  0.62745098  0.63970588  0.64705882  0.66196895  0.67075163  0.65196078\n",
            "  0.63112745  0.61294935  0.6376634   0.62254902  0.62745098  0.63337418\n",
            "  0.62642974  0.63623366  0.58312908  0.57781863  0.57230392  0.58006536\n",
            "  0.57618464  0.55167484  0.57883987  0.625       0.63582516  0.62949346\n",
            "  0.62888072  0.62765523  0.62234477  0.63378268  0.62622549  0.62214052\n",
            "  0.62418301 -0.0620781  -0.06149163 -0.05994388 -0.05742507 -0.05406941\n",
            " -0.050084   -0.04569551 -0.0411161  -0.03652566]\n",
            "9 day output [[-0.03206525]]\n",
            "10 day input [ 0.67892157  0.69138072  0.70894608  0.72263072  0.73406863  0.72120098\n",
            "  0.74979575  0.7689951   0.74468954  0.7120098   0.74673203  0.75490196\n",
            "  0.76041667  0.75980392  0.74652778  0.76245915  0.77062908  0.80412582\n",
            "  0.78104575  0.79411765  0.76021242  0.73488562  0.72406046  0.73999183\n",
            "  0.74979575  0.76143791  0.75428922  0.74754902  0.76960784  0.7495915\n",
            "  0.81719771  0.80208333  0.77736928  0.75714869  0.79370915  0.79166667\n",
            "  0.77144608  0.75265523  0.72691993  0.6629902   0.68198529  0.64419935\n",
            "  0.62152778  0.6439951   0.66319444  0.67544935  0.63705065  0.64603758\n",
            "  0.65890523  0.65870098  0.67790033  0.63194444  0.63112745  0.62785948\n",
            "  0.64767157  0.63991013  0.63480392  0.63868464  0.62336601  0.62745098\n",
            "  0.63970588  0.64705882  0.66196895  0.67075163  0.65196078  0.63112745\n",
            "  0.61294935  0.6376634   0.62254902  0.62745098  0.63337418  0.62642974\n",
            "  0.63623366  0.58312908  0.57781863  0.57230392  0.58006536  0.57618464\n",
            "  0.55167484  0.57883987  0.625       0.63582516  0.62949346  0.62888072\n",
            "  0.62765523  0.62234477  0.63378268  0.62622549  0.62214052  0.62418301\n",
            " -0.0620781  -0.06149163 -0.05994388 -0.05742507 -0.05406941 -0.050084\n",
            " -0.04569551 -0.0411161  -0.03652566 -0.03206525]\n",
            "10 day output [[-0.02783774]]\n",
            "11 day input [ 0.69138072  0.70894608  0.72263072  0.73406863  0.72120098  0.74979575\n",
            "  0.7689951   0.74468954  0.7120098   0.74673203  0.75490196  0.76041667\n",
            "  0.75980392  0.74652778  0.76245915  0.77062908  0.80412582  0.78104575\n",
            "  0.79411765  0.76021242  0.73488562  0.72406046  0.73999183  0.74979575\n",
            "  0.76143791  0.75428922  0.74754902  0.76960784  0.7495915   0.81719771\n",
            "  0.80208333  0.77736928  0.75714869  0.79370915  0.79166667  0.77144608\n",
            "  0.75265523  0.72691993  0.6629902   0.68198529  0.64419935  0.62152778\n",
            "  0.6439951   0.66319444  0.67544935  0.63705065  0.64603758  0.65890523\n",
            "  0.65870098  0.67790033  0.63194444  0.63112745  0.62785948  0.64767157\n",
            "  0.63991013  0.63480392  0.63868464  0.62336601  0.62745098  0.63970588\n",
            "  0.64705882  0.66196895  0.67075163  0.65196078  0.63112745  0.61294935\n",
            "  0.6376634   0.62254902  0.62745098  0.63337418  0.62642974  0.63623366\n",
            "  0.58312908  0.57781863  0.57230392  0.58006536  0.57618464  0.55167484\n",
            "  0.57883987  0.625       0.63582516  0.62949346  0.62888072  0.62765523\n",
            "  0.62234477  0.63378268  0.62622549  0.62214052  0.62418301 -0.0620781\n",
            " -0.06149163 -0.05994388 -0.05742507 -0.05406941 -0.050084   -0.04569551\n",
            " -0.0411161  -0.03652566 -0.03206525 -0.02783774]\n",
            "11 day output [[-0.02391194]]\n",
            "12 day input [ 0.70894608  0.72263072  0.73406863  0.72120098  0.74979575  0.7689951\n",
            "  0.74468954  0.7120098   0.74673203  0.75490196  0.76041667  0.75980392\n",
            "  0.74652778  0.76245915  0.77062908  0.80412582  0.78104575  0.79411765\n",
            "  0.76021242  0.73488562  0.72406046  0.73999183  0.74979575  0.76143791\n",
            "  0.75428922  0.74754902  0.76960784  0.7495915   0.81719771  0.80208333\n",
            "  0.77736928  0.75714869  0.79370915  0.79166667  0.77144608  0.75265523\n",
            "  0.72691993  0.6629902   0.68198529  0.64419935  0.62152778  0.6439951\n",
            "  0.66319444  0.67544935  0.63705065  0.64603758  0.65890523  0.65870098\n",
            "  0.67790033  0.63194444  0.63112745  0.62785948  0.64767157  0.63991013\n",
            "  0.63480392  0.63868464  0.62336601  0.62745098  0.63970588  0.64705882\n",
            "  0.66196895  0.67075163  0.65196078  0.63112745  0.61294935  0.6376634\n",
            "  0.62254902  0.62745098  0.63337418  0.62642974  0.63623366  0.58312908\n",
            "  0.57781863  0.57230392  0.58006536  0.57618464  0.55167484  0.57883987\n",
            "  0.625       0.63582516  0.62949346  0.62888072  0.62765523  0.62234477\n",
            "  0.63378268  0.62622549  0.62214052  0.62418301 -0.0620781  -0.06149163\n",
            " -0.05994388 -0.05742507 -0.05406941 -0.050084   -0.04569551 -0.0411161\n",
            " -0.03652566 -0.03206525 -0.02783774 -0.02391194]\n",
            "12 day output [[-0.02032846]]\n",
            "13 day input [ 0.72263072  0.73406863  0.72120098  0.74979575  0.7689951   0.74468954\n",
            "  0.7120098   0.74673203  0.75490196  0.76041667  0.75980392  0.74652778\n",
            "  0.76245915  0.77062908  0.80412582  0.78104575  0.79411765  0.76021242\n",
            "  0.73488562  0.72406046  0.73999183  0.74979575  0.76143791  0.75428922\n",
            "  0.74754902  0.76960784  0.7495915   0.81719771  0.80208333  0.77736928\n",
            "  0.75714869  0.79370915  0.79166667  0.77144608  0.75265523  0.72691993\n",
            "  0.6629902   0.68198529  0.64419935  0.62152778  0.6439951   0.66319444\n",
            "  0.67544935  0.63705065  0.64603758  0.65890523  0.65870098  0.67790033\n",
            "  0.63194444  0.63112745  0.62785948  0.64767157  0.63991013  0.63480392\n",
            "  0.63868464  0.62336601  0.62745098  0.63970588  0.64705882  0.66196895\n",
            "  0.67075163  0.65196078  0.63112745  0.61294935  0.6376634   0.62254902\n",
            "  0.62745098  0.63337418  0.62642974  0.63623366  0.58312908  0.57781863\n",
            "  0.57230392  0.58006536  0.57618464  0.55167484  0.57883987  0.625\n",
            "  0.63582516  0.62949346  0.62888072  0.62765523  0.62234477  0.63378268\n",
            "  0.62622549  0.62214052  0.62418301 -0.0620781  -0.06149163 -0.05994388\n",
            " -0.05742507 -0.05406941 -0.050084   -0.04569551 -0.0411161  -0.03652566\n",
            " -0.03206525 -0.02783774 -0.02391194 -0.02032846]\n",
            "13 day output [[-0.01710557]]\n",
            "14 day input [ 0.73406863  0.72120098  0.74979575  0.7689951   0.74468954  0.7120098\n",
            "  0.74673203  0.75490196  0.76041667  0.75980392  0.74652778  0.76245915\n",
            "  0.77062908  0.80412582  0.78104575  0.79411765  0.76021242  0.73488562\n",
            "  0.72406046  0.73999183  0.74979575  0.76143791  0.75428922  0.74754902\n",
            "  0.76960784  0.7495915   0.81719771  0.80208333  0.77736928  0.75714869\n",
            "  0.79370915  0.79166667  0.77144608  0.75265523  0.72691993  0.6629902\n",
            "  0.68198529  0.64419935  0.62152778  0.6439951   0.66319444  0.67544935\n",
            "  0.63705065  0.64603758  0.65890523  0.65870098  0.67790033  0.63194444\n",
            "  0.63112745  0.62785948  0.64767157  0.63991013  0.63480392  0.63868464\n",
            "  0.62336601  0.62745098  0.63970588  0.64705882  0.66196895  0.67075163\n",
            "  0.65196078  0.63112745  0.61294935  0.6376634   0.62254902  0.62745098\n",
            "  0.63337418  0.62642974  0.63623366  0.58312908  0.57781863  0.57230392\n",
            "  0.58006536  0.57618464  0.55167484  0.57883987  0.625       0.63582516\n",
            "  0.62949346  0.62888072  0.62765523  0.62234477  0.63378268  0.62622549\n",
            "  0.62214052  0.62418301 -0.0620781  -0.06149163 -0.05994388 -0.05742507\n",
            " -0.05406941 -0.050084   -0.04569551 -0.0411161  -0.03652566 -0.03206525\n",
            " -0.02783774 -0.02391194 -0.02032846 -0.01710557]\n",
            "14 day output [[-0.01424475]]\n",
            "15 day input [ 0.72120098  0.74979575  0.7689951   0.74468954  0.7120098   0.74673203\n",
            "  0.75490196  0.76041667  0.75980392  0.74652778  0.76245915  0.77062908\n",
            "  0.80412582  0.78104575  0.79411765  0.76021242  0.73488562  0.72406046\n",
            "  0.73999183  0.74979575  0.76143791  0.75428922  0.74754902  0.76960784\n",
            "  0.7495915   0.81719771  0.80208333  0.77736928  0.75714869  0.79370915\n",
            "  0.79166667  0.77144608  0.75265523  0.72691993  0.6629902   0.68198529\n",
            "  0.64419935  0.62152778  0.6439951   0.66319444  0.67544935  0.63705065\n",
            "  0.64603758  0.65890523  0.65870098  0.67790033  0.63194444  0.63112745\n",
            "  0.62785948  0.64767157  0.63991013  0.63480392  0.63868464  0.62336601\n",
            "  0.62745098  0.63970588  0.64705882  0.66196895  0.67075163  0.65196078\n",
            "  0.63112745  0.61294935  0.6376634   0.62254902  0.62745098  0.63337418\n",
            "  0.62642974  0.63623366  0.58312908  0.57781863  0.57230392  0.58006536\n",
            "  0.57618464  0.55167484  0.57883987  0.625       0.63582516  0.62949346\n",
            "  0.62888072  0.62765523  0.62234477  0.63378268  0.62622549  0.62214052\n",
            "  0.62418301 -0.0620781  -0.06149163 -0.05994388 -0.05742507 -0.05406941\n",
            " -0.050084   -0.04569551 -0.0411161  -0.03652566 -0.03206525 -0.02783774\n",
            " -0.02391194 -0.02032846 -0.01710557 -0.01424475]\n",
            "15 day output [[-0.01173527]]\n",
            "16 day input [ 0.74979575  0.7689951   0.74468954  0.7120098   0.74673203  0.75490196\n",
            "  0.76041667  0.75980392  0.74652778  0.76245915  0.77062908  0.80412582\n",
            "  0.78104575  0.79411765  0.76021242  0.73488562  0.72406046  0.73999183\n",
            "  0.74979575  0.76143791  0.75428922  0.74754902  0.76960784  0.7495915\n",
            "  0.81719771  0.80208333  0.77736928  0.75714869  0.79370915  0.79166667\n",
            "  0.77144608  0.75265523  0.72691993  0.6629902   0.68198529  0.64419935\n",
            "  0.62152778  0.6439951   0.66319444  0.67544935  0.63705065  0.64603758\n",
            "  0.65890523  0.65870098  0.67790033  0.63194444  0.63112745  0.62785948\n",
            "  0.64767157  0.63991013  0.63480392  0.63868464  0.62336601  0.62745098\n",
            "  0.63970588  0.64705882  0.66196895  0.67075163  0.65196078  0.63112745\n",
            "  0.61294935  0.6376634   0.62254902  0.62745098  0.63337418  0.62642974\n",
            "  0.63623366  0.58312908  0.57781863  0.57230392  0.58006536  0.57618464\n",
            "  0.55167484  0.57883987  0.625       0.63582516  0.62949346  0.62888072\n",
            "  0.62765523  0.62234477  0.63378268  0.62622549  0.62214052  0.62418301\n",
            " -0.0620781  -0.06149163 -0.05994388 -0.05742507 -0.05406941 -0.050084\n",
            " -0.04569551 -0.0411161  -0.03652566 -0.03206525 -0.02783774 -0.02391194\n",
            " -0.02032846 -0.01710557 -0.01424475 -0.01173527]\n",
            "16 day output [[-0.00955814]]\n",
            "17 day input [ 0.7689951   0.74468954  0.7120098   0.74673203  0.75490196  0.76041667\n",
            "  0.75980392  0.74652778  0.76245915  0.77062908  0.80412582  0.78104575\n",
            "  0.79411765  0.76021242  0.73488562  0.72406046  0.73999183  0.74979575\n",
            "  0.76143791  0.75428922  0.74754902  0.76960784  0.7495915   0.81719771\n",
            "  0.80208333  0.77736928  0.75714869  0.79370915  0.79166667  0.77144608\n",
            "  0.75265523  0.72691993  0.6629902   0.68198529  0.64419935  0.62152778\n",
            "  0.6439951   0.66319444  0.67544935  0.63705065  0.64603758  0.65890523\n",
            "  0.65870098  0.67790033  0.63194444  0.63112745  0.62785948  0.64767157\n",
            "  0.63991013  0.63480392  0.63868464  0.62336601  0.62745098  0.63970588\n",
            "  0.64705882  0.66196895  0.67075163  0.65196078  0.63112745  0.61294935\n",
            "  0.6376634   0.62254902  0.62745098  0.63337418  0.62642974  0.63623366\n",
            "  0.58312908  0.57781863  0.57230392  0.58006536  0.57618464  0.55167484\n",
            "  0.57883987  0.625       0.63582516  0.62949346  0.62888072  0.62765523\n",
            "  0.62234477  0.63378268  0.62622549  0.62214052  0.62418301 -0.0620781\n",
            " -0.06149163 -0.05994388 -0.05742507 -0.05406941 -0.050084   -0.04569551\n",
            " -0.0411161  -0.03652566 -0.03206525 -0.02783774 -0.02391194 -0.02032846\n",
            " -0.01710557 -0.01424475 -0.01173527 -0.00955814]\n",
            "17 day output [[-0.00768903]]\n",
            "18 day input [ 0.74468954  0.7120098   0.74673203  0.75490196  0.76041667  0.75980392\n",
            "  0.74652778  0.76245915  0.77062908  0.80412582  0.78104575  0.79411765\n",
            "  0.76021242  0.73488562  0.72406046  0.73999183  0.74979575  0.76143791\n",
            "  0.75428922  0.74754902  0.76960784  0.7495915   0.81719771  0.80208333\n",
            "  0.77736928  0.75714869  0.79370915  0.79166667  0.77144608  0.75265523\n",
            "  0.72691993  0.6629902   0.68198529  0.64419935  0.62152778  0.6439951\n",
            "  0.66319444  0.67544935  0.63705065  0.64603758  0.65890523  0.65870098\n",
            "  0.67790033  0.63194444  0.63112745  0.62785948  0.64767157  0.63991013\n",
            "  0.63480392  0.63868464  0.62336601  0.62745098  0.63970588  0.64705882\n",
            "  0.66196895  0.67075163  0.65196078  0.63112745  0.61294935  0.6376634\n",
            "  0.62254902  0.62745098  0.63337418  0.62642974  0.63623366  0.58312908\n",
            "  0.57781863  0.57230392  0.58006536  0.57618464  0.55167484  0.57883987\n",
            "  0.625       0.63582516  0.62949346  0.62888072  0.62765523  0.62234477\n",
            "  0.63378268  0.62622549  0.62214052  0.62418301 -0.0620781  -0.06149163\n",
            " -0.05994388 -0.05742507 -0.05406941 -0.050084   -0.04569551 -0.0411161\n",
            " -0.03652566 -0.03206525 -0.02783774 -0.02391194 -0.02032846 -0.01710557\n",
            " -0.01424475 -0.01173527 -0.00955814 -0.00768903]\n",
            "18 day output [[-0.00610069]]\n",
            "19 day input [ 0.7120098   0.74673203  0.75490196  0.76041667  0.75980392  0.74652778\n",
            "  0.76245915  0.77062908  0.80412582  0.78104575  0.79411765  0.76021242\n",
            "  0.73488562  0.72406046  0.73999183  0.74979575  0.76143791  0.75428922\n",
            "  0.74754902  0.76960784  0.7495915   0.81719771  0.80208333  0.77736928\n",
            "  0.75714869  0.79370915  0.79166667  0.77144608  0.75265523  0.72691993\n",
            "  0.6629902   0.68198529  0.64419935  0.62152778  0.6439951   0.66319444\n",
            "  0.67544935  0.63705065  0.64603758  0.65890523  0.65870098  0.67790033\n",
            "  0.63194444  0.63112745  0.62785948  0.64767157  0.63991013  0.63480392\n",
            "  0.63868464  0.62336601  0.62745098  0.63970588  0.64705882  0.66196895\n",
            "  0.67075163  0.65196078  0.63112745  0.61294935  0.6376634   0.62254902\n",
            "  0.62745098  0.63337418  0.62642974  0.63623366  0.58312908  0.57781863\n",
            "  0.57230392  0.58006536  0.57618464  0.55167484  0.57883987  0.625\n",
            "  0.63582516  0.62949346  0.62888072  0.62765523  0.62234477  0.63378268\n",
            "  0.62622549  0.62214052  0.62418301 -0.0620781  -0.06149163 -0.05994388\n",
            " -0.05742507 -0.05406941 -0.050084   -0.04569551 -0.0411161  -0.03652566\n",
            " -0.03206525 -0.02783774 -0.02391194 -0.02032846 -0.01710557 -0.01424475\n",
            " -0.01173527 -0.00955814 -0.00768903 -0.00610069]\n",
            "19 day output [[-0.00476466]]\n",
            "20 day input [ 0.74673203  0.75490196  0.76041667  0.75980392  0.74652778  0.76245915\n",
            "  0.77062908  0.80412582  0.78104575  0.79411765  0.76021242  0.73488562\n",
            "  0.72406046  0.73999183  0.74979575  0.76143791  0.75428922  0.74754902\n",
            "  0.76960784  0.7495915   0.81719771  0.80208333  0.77736928  0.75714869\n",
            "  0.79370915  0.79166667  0.77144608  0.75265523  0.72691993  0.6629902\n",
            "  0.68198529  0.64419935  0.62152778  0.6439951   0.66319444  0.67544935\n",
            "  0.63705065  0.64603758  0.65890523  0.65870098  0.67790033  0.63194444\n",
            "  0.63112745  0.62785948  0.64767157  0.63991013  0.63480392  0.63868464\n",
            "  0.62336601  0.62745098  0.63970588  0.64705882  0.66196895  0.67075163\n",
            "  0.65196078  0.63112745  0.61294935  0.6376634   0.62254902  0.62745098\n",
            "  0.63337418  0.62642974  0.63623366  0.58312908  0.57781863  0.57230392\n",
            "  0.58006536  0.57618464  0.55167484  0.57883987  0.625       0.63582516\n",
            "  0.62949346  0.62888072  0.62765523  0.62234477  0.63378268  0.62622549\n",
            "  0.62214052  0.62418301 -0.0620781  -0.06149163 -0.05994388 -0.05742507\n",
            " -0.05406941 -0.050084   -0.04569551 -0.0411161  -0.03652566 -0.03206525\n",
            " -0.02783774 -0.02391194 -0.02032846 -0.01710557 -0.01424475 -0.01173527\n",
            " -0.00955814 -0.00768903 -0.00610069 -0.00476466]\n",
            "20 day output [[-0.00365251]]\n",
            "21 day input [ 0.75490196  0.76041667  0.75980392  0.74652778  0.76245915  0.77062908\n",
            "  0.80412582  0.78104575  0.79411765  0.76021242  0.73488562  0.72406046\n",
            "  0.73999183  0.74979575  0.76143791  0.75428922  0.74754902  0.76960784\n",
            "  0.7495915   0.81719771  0.80208333  0.77736928  0.75714869  0.79370915\n",
            "  0.79166667  0.77144608  0.75265523  0.72691993  0.6629902   0.68198529\n",
            "  0.64419935  0.62152778  0.6439951   0.66319444  0.67544935  0.63705065\n",
            "  0.64603758  0.65890523  0.65870098  0.67790033  0.63194444  0.63112745\n",
            "  0.62785948  0.64767157  0.63991013  0.63480392  0.63868464  0.62336601\n",
            "  0.62745098  0.63970588  0.64705882  0.66196895  0.67075163  0.65196078\n",
            "  0.63112745  0.61294935  0.6376634   0.62254902  0.62745098  0.63337418\n",
            "  0.62642974  0.63623366  0.58312908  0.57781863  0.57230392  0.58006536\n",
            "  0.57618464  0.55167484  0.57883987  0.625       0.63582516  0.62949346\n",
            "  0.62888072  0.62765523  0.62234477  0.63378268  0.62622549  0.62214052\n",
            "  0.62418301 -0.0620781  -0.06149163 -0.05994388 -0.05742507 -0.05406941\n",
            " -0.050084   -0.04569551 -0.0411161  -0.03652566 -0.03206525 -0.02783774\n",
            " -0.02391194 -0.02032846 -0.01710557 -0.01424475 -0.01173527 -0.00955814\n",
            " -0.00768903 -0.00610069 -0.00476466 -0.00365251]\n",
            "21 day output [[-0.00273678]]\n",
            "22 day input [ 0.76041667  0.75980392  0.74652778  0.76245915  0.77062908  0.80412582\n",
            "  0.78104575  0.79411765  0.76021242  0.73488562  0.72406046  0.73999183\n",
            "  0.74979575  0.76143791  0.75428922  0.74754902  0.76960784  0.7495915\n",
            "  0.81719771  0.80208333  0.77736928  0.75714869  0.79370915  0.79166667\n",
            "  0.77144608  0.75265523  0.72691993  0.6629902   0.68198529  0.64419935\n",
            "  0.62152778  0.6439951   0.66319444  0.67544935  0.63705065  0.64603758\n",
            "  0.65890523  0.65870098  0.67790033  0.63194444  0.63112745  0.62785948\n",
            "  0.64767157  0.63991013  0.63480392  0.63868464  0.62336601  0.62745098\n",
            "  0.63970588  0.64705882  0.66196895  0.67075163  0.65196078  0.63112745\n",
            "  0.61294935  0.6376634   0.62254902  0.62745098  0.63337418  0.62642974\n",
            "  0.63623366  0.58312908  0.57781863  0.57230392  0.58006536  0.57618464\n",
            "  0.55167484  0.57883987  0.625       0.63582516  0.62949346  0.62888072\n",
            "  0.62765523  0.62234477  0.63378268  0.62622549  0.62214052  0.62418301\n",
            " -0.0620781  -0.06149163 -0.05994388 -0.05742507 -0.05406941 -0.050084\n",
            " -0.04569551 -0.0411161  -0.03652566 -0.03206525 -0.02783774 -0.02391194\n",
            " -0.02032846 -0.01710557 -0.01424475 -0.01173527 -0.00955814 -0.00768903\n",
            " -0.00610069 -0.00476466 -0.00365251 -0.00273678]\n",
            "22 day output [[-0.00199155]]\n",
            "23 day input [ 0.75980392  0.74652778  0.76245915  0.77062908  0.80412582  0.78104575\n",
            "  0.79411765  0.76021242  0.73488562  0.72406046  0.73999183  0.74979575\n",
            "  0.76143791  0.75428922  0.74754902  0.76960784  0.7495915   0.81719771\n",
            "  0.80208333  0.77736928  0.75714869  0.79370915  0.79166667  0.77144608\n",
            "  0.75265523  0.72691993  0.6629902   0.68198529  0.64419935  0.62152778\n",
            "  0.6439951   0.66319444  0.67544935  0.63705065  0.64603758  0.65890523\n",
            "  0.65870098  0.67790033  0.63194444  0.63112745  0.62785948  0.64767157\n",
            "  0.63991013  0.63480392  0.63868464  0.62336601  0.62745098  0.63970588\n",
            "  0.64705882  0.66196895  0.67075163  0.65196078  0.63112745  0.61294935\n",
            "  0.6376634   0.62254902  0.62745098  0.63337418  0.62642974  0.63623366\n",
            "  0.58312908  0.57781863  0.57230392  0.58006536  0.57618464  0.55167484\n",
            "  0.57883987  0.625       0.63582516  0.62949346  0.62888072  0.62765523\n",
            "  0.62234477  0.63378268  0.62622549  0.62214052  0.62418301 -0.0620781\n",
            " -0.06149163 -0.05994388 -0.05742507 -0.05406941 -0.050084   -0.04569551\n",
            " -0.0411161  -0.03652566 -0.03206525 -0.02783774 -0.02391194 -0.02032846\n",
            " -0.01710557 -0.01424475 -0.01173527 -0.00955814 -0.00768903 -0.00610069\n",
            " -0.00476466 -0.00365251 -0.00273678 -0.00199155]\n",
            "23 day output [[-0.0013928]]\n",
            "24 day input [ 0.74652778  0.76245915  0.77062908  0.80412582  0.78104575  0.79411765\n",
            "  0.76021242  0.73488562  0.72406046  0.73999183  0.74979575  0.76143791\n",
            "  0.75428922  0.74754902  0.76960784  0.7495915   0.81719771  0.80208333\n",
            "  0.77736928  0.75714869  0.79370915  0.79166667  0.77144608  0.75265523\n",
            "  0.72691993  0.6629902   0.68198529  0.64419935  0.62152778  0.6439951\n",
            "  0.66319444  0.67544935  0.63705065  0.64603758  0.65890523  0.65870098\n",
            "  0.67790033  0.63194444  0.63112745  0.62785948  0.64767157  0.63991013\n",
            "  0.63480392  0.63868464  0.62336601  0.62745098  0.63970588  0.64705882\n",
            "  0.66196895  0.67075163  0.65196078  0.63112745  0.61294935  0.6376634\n",
            "  0.62254902  0.62745098  0.63337418  0.62642974  0.63623366  0.58312908\n",
            "  0.57781863  0.57230392  0.58006536  0.57618464  0.55167484  0.57883987\n",
            "  0.625       0.63582516  0.62949346  0.62888072  0.62765523  0.62234477\n",
            "  0.63378268  0.62622549  0.62214052  0.62418301 -0.0620781  -0.06149163\n",
            " -0.05994388 -0.05742507 -0.05406941 -0.050084   -0.04569551 -0.0411161\n",
            " -0.03652566 -0.03206525 -0.02783774 -0.02391194 -0.02032846 -0.01710557\n",
            " -0.01424475 -0.01173527 -0.00955814 -0.00768903 -0.00610069 -0.00476466\n",
            " -0.00365251 -0.00273678 -0.00199155 -0.0013928 ]\n",
            "24 day output [[-0.00091862]]\n",
            "25 day input [ 0.76245915  0.77062908  0.80412582  0.78104575  0.79411765  0.76021242\n",
            "  0.73488562  0.72406046  0.73999183  0.74979575  0.76143791  0.75428922\n",
            "  0.74754902  0.76960784  0.7495915   0.81719771  0.80208333  0.77736928\n",
            "  0.75714869  0.79370915  0.79166667  0.77144608  0.75265523  0.72691993\n",
            "  0.6629902   0.68198529  0.64419935  0.62152778  0.6439951   0.66319444\n",
            "  0.67544935  0.63705065  0.64603758  0.65890523  0.65870098  0.67790033\n",
            "  0.63194444  0.63112745  0.62785948  0.64767157  0.63991013  0.63480392\n",
            "  0.63868464  0.62336601  0.62745098  0.63970588  0.64705882  0.66196895\n",
            "  0.67075163  0.65196078  0.63112745  0.61294935  0.6376634   0.62254902\n",
            "  0.62745098  0.63337418  0.62642974  0.63623366  0.58312908  0.57781863\n",
            "  0.57230392  0.58006536  0.57618464  0.55167484  0.57883987  0.625\n",
            "  0.63582516  0.62949346  0.62888072  0.62765523  0.62234477  0.63378268\n",
            "  0.62622549  0.62214052  0.62418301 -0.0620781  -0.06149163 -0.05994388\n",
            " -0.05742507 -0.05406941 -0.050084   -0.04569551 -0.0411161  -0.03652566\n",
            " -0.03206525 -0.02783774 -0.02391194 -0.02032846 -0.01710557 -0.01424475\n",
            " -0.01173527 -0.00955814 -0.00768903 -0.00610069 -0.00476466 -0.00365251\n",
            " -0.00273678 -0.00199155 -0.0013928  -0.00091862]\n",
            "25 day output [[-0.00054931]]\n",
            "26 day input [ 7.70629085e-01  8.04125817e-01  7.81045752e-01  7.94117647e-01\n",
            "  7.60212418e-01  7.34885621e-01  7.24060458e-01  7.39991830e-01\n",
            "  7.49795752e-01  7.61437908e-01  7.54289216e-01  7.47549020e-01\n",
            "  7.69607843e-01  7.49591503e-01  8.17197712e-01  8.02083333e-01\n",
            "  7.77369281e-01  7.57148693e-01  7.93709150e-01  7.91666667e-01\n",
            "  7.71446078e-01  7.52655229e-01  7.26919935e-01  6.62990196e-01\n",
            "  6.81985294e-01  6.44199346e-01  6.21527778e-01  6.43995098e-01\n",
            "  6.63194444e-01  6.75449346e-01  6.37050654e-01  6.46037582e-01\n",
            "  6.58905229e-01  6.58700980e-01  6.77900327e-01  6.31944444e-01\n",
            "  6.31127451e-01  6.27859477e-01  6.47671569e-01  6.39910131e-01\n",
            "  6.34803922e-01  6.38684641e-01  6.23366013e-01  6.27450980e-01\n",
            "  6.39705882e-01  6.47058824e-01  6.61968954e-01  6.70751634e-01\n",
            "  6.51960784e-01  6.31127451e-01  6.12949346e-01  6.37663399e-01\n",
            "  6.22549020e-01  6.27450980e-01  6.33374183e-01  6.26429739e-01\n",
            "  6.36233660e-01  5.83129085e-01  5.77818627e-01  5.72303922e-01\n",
            "  5.80065359e-01  5.76184641e-01  5.51674837e-01  5.78839869e-01\n",
            "  6.25000000e-01  6.35825163e-01  6.29493464e-01  6.28880719e-01\n",
            "  6.27655229e-01  6.22344771e-01  6.33782680e-01  6.26225490e-01\n",
            "  6.22140523e-01  6.24183007e-01 -6.20780997e-02 -6.14916272e-02\n",
            " -5.99438846e-02 -5.74250706e-02 -5.40694147e-02 -5.00839986e-02\n",
            " -4.56955098e-02 -4.11160998e-02 -3.65256555e-02 -3.20652537e-02\n",
            " -2.78377365e-02 -2.39119399e-02 -2.03284565e-02 -1.71055701e-02\n",
            " -1.42447455e-02 -1.17352745e-02 -9.55813937e-03 -7.68903131e-03\n",
            " -6.10069418e-03 -4.76465747e-03 -3.65251023e-03 -2.73678219e-03\n",
            " -1.99155137e-03 -1.39279733e-03 -9.18617181e-04 -5.49305347e-04]\n",
            "26 day output [[-0.00026734]]\n",
            "27 day input [ 8.04125817e-01  7.81045752e-01  7.94117647e-01  7.60212418e-01\n",
            "  7.34885621e-01  7.24060458e-01  7.39991830e-01  7.49795752e-01\n",
            "  7.61437908e-01  7.54289216e-01  7.47549020e-01  7.69607843e-01\n",
            "  7.49591503e-01  8.17197712e-01  8.02083333e-01  7.77369281e-01\n",
            "  7.57148693e-01  7.93709150e-01  7.91666667e-01  7.71446078e-01\n",
            "  7.52655229e-01  7.26919935e-01  6.62990196e-01  6.81985294e-01\n",
            "  6.44199346e-01  6.21527778e-01  6.43995098e-01  6.63194444e-01\n",
            "  6.75449346e-01  6.37050654e-01  6.46037582e-01  6.58905229e-01\n",
            "  6.58700980e-01  6.77900327e-01  6.31944444e-01  6.31127451e-01\n",
            "  6.27859477e-01  6.47671569e-01  6.39910131e-01  6.34803922e-01\n",
            "  6.38684641e-01  6.23366013e-01  6.27450980e-01  6.39705882e-01\n",
            "  6.47058824e-01  6.61968954e-01  6.70751634e-01  6.51960784e-01\n",
            "  6.31127451e-01  6.12949346e-01  6.37663399e-01  6.22549020e-01\n",
            "  6.27450980e-01  6.33374183e-01  6.26429739e-01  6.36233660e-01\n",
            "  5.83129085e-01  5.77818627e-01  5.72303922e-01  5.80065359e-01\n",
            "  5.76184641e-01  5.51674837e-01  5.78839869e-01  6.25000000e-01\n",
            "  6.35825163e-01  6.29493464e-01  6.28880719e-01  6.27655229e-01\n",
            "  6.22344771e-01  6.33782680e-01  6.26225490e-01  6.22140523e-01\n",
            "  6.24183007e-01 -6.20780997e-02 -6.14916272e-02 -5.99438846e-02\n",
            " -5.74250706e-02 -5.40694147e-02 -5.00839986e-02 -4.56955098e-02\n",
            " -4.11160998e-02 -3.65256555e-02 -3.20652537e-02 -2.78377365e-02\n",
            " -2.39119399e-02 -2.03284565e-02 -1.71055701e-02 -1.42447455e-02\n",
            " -1.17352745e-02 -9.55813937e-03 -7.68903131e-03 -6.10069418e-03\n",
            " -4.76465747e-03 -3.65251023e-03 -2.73678219e-03 -1.99155137e-03\n",
            " -1.39279733e-03 -9.18617181e-04 -5.49305347e-04 -2.67340685e-04]\n",
            "27 day output [[-5.7315392e-05]]\n",
            "28 day input [ 7.81045752e-01  7.94117647e-01  7.60212418e-01  7.34885621e-01\n",
            "  7.24060458e-01  7.39991830e-01  7.49795752e-01  7.61437908e-01\n",
            "  7.54289216e-01  7.47549020e-01  7.69607843e-01  7.49591503e-01\n",
            "  8.17197712e-01  8.02083333e-01  7.77369281e-01  7.57148693e-01\n",
            "  7.93709150e-01  7.91666667e-01  7.71446078e-01  7.52655229e-01\n",
            "  7.26919935e-01  6.62990196e-01  6.81985294e-01  6.44199346e-01\n",
            "  6.21527778e-01  6.43995098e-01  6.63194444e-01  6.75449346e-01\n",
            "  6.37050654e-01  6.46037582e-01  6.58905229e-01  6.58700980e-01\n",
            "  6.77900327e-01  6.31944444e-01  6.31127451e-01  6.27859477e-01\n",
            "  6.47671569e-01  6.39910131e-01  6.34803922e-01  6.38684641e-01\n",
            "  6.23366013e-01  6.27450980e-01  6.39705882e-01  6.47058824e-01\n",
            "  6.61968954e-01  6.70751634e-01  6.51960784e-01  6.31127451e-01\n",
            "  6.12949346e-01  6.37663399e-01  6.22549020e-01  6.27450980e-01\n",
            "  6.33374183e-01  6.26429739e-01  6.36233660e-01  5.83129085e-01\n",
            "  5.77818627e-01  5.72303922e-01  5.80065359e-01  5.76184641e-01\n",
            "  5.51674837e-01  5.78839869e-01  6.25000000e-01  6.35825163e-01\n",
            "  6.29493464e-01  6.28880719e-01  6.27655229e-01  6.22344771e-01\n",
            "  6.33782680e-01  6.26225490e-01  6.22140523e-01  6.24183007e-01\n",
            " -6.20780997e-02 -6.14916272e-02 -5.99438846e-02 -5.74250706e-02\n",
            " -5.40694147e-02 -5.00839986e-02 -4.56955098e-02 -4.11160998e-02\n",
            " -3.65256555e-02 -3.20652537e-02 -2.78377365e-02 -2.39119399e-02\n",
            " -2.03284565e-02 -1.71055701e-02 -1.42447455e-02 -1.17352745e-02\n",
            " -9.55813937e-03 -7.68903131e-03 -6.10069418e-03 -4.76465747e-03\n",
            " -3.65251023e-03 -2.73678219e-03 -1.99155137e-03 -1.39279733e-03\n",
            " -9.18617181e-04 -5.49305347e-04 -2.67340685e-04 -5.73153920e-05]\n",
            "28 day output [[9.417396e-05]]\n",
            "29 day input [ 7.94117647e-01  7.60212418e-01  7.34885621e-01  7.24060458e-01\n",
            "  7.39991830e-01  7.49795752e-01  7.61437908e-01  7.54289216e-01\n",
            "  7.47549020e-01  7.69607843e-01  7.49591503e-01  8.17197712e-01\n",
            "  8.02083333e-01  7.77369281e-01  7.57148693e-01  7.93709150e-01\n",
            "  7.91666667e-01  7.71446078e-01  7.52655229e-01  7.26919935e-01\n",
            "  6.62990196e-01  6.81985294e-01  6.44199346e-01  6.21527778e-01\n",
            "  6.43995098e-01  6.63194444e-01  6.75449346e-01  6.37050654e-01\n",
            "  6.46037582e-01  6.58905229e-01  6.58700980e-01  6.77900327e-01\n",
            "  6.31944444e-01  6.31127451e-01  6.27859477e-01  6.47671569e-01\n",
            "  6.39910131e-01  6.34803922e-01  6.38684641e-01  6.23366013e-01\n",
            "  6.27450980e-01  6.39705882e-01  6.47058824e-01  6.61968954e-01\n",
            "  6.70751634e-01  6.51960784e-01  6.31127451e-01  6.12949346e-01\n",
            "  6.37663399e-01  6.22549020e-01  6.27450980e-01  6.33374183e-01\n",
            "  6.26429739e-01  6.36233660e-01  5.83129085e-01  5.77818627e-01\n",
            "  5.72303922e-01  5.80065359e-01  5.76184641e-01  5.51674837e-01\n",
            "  5.78839869e-01  6.25000000e-01  6.35825163e-01  6.29493464e-01\n",
            "  6.28880719e-01  6.27655229e-01  6.22344771e-01  6.33782680e-01\n",
            "  6.26225490e-01  6.22140523e-01  6.24183007e-01 -6.20780997e-02\n",
            " -6.14916272e-02 -5.99438846e-02 -5.74250706e-02 -5.40694147e-02\n",
            " -5.00839986e-02 -4.56955098e-02 -4.11160998e-02 -3.65256555e-02\n",
            " -3.20652537e-02 -2.78377365e-02 -2.39119399e-02 -2.03284565e-02\n",
            " -1.71055701e-02 -1.42447455e-02 -1.17352745e-02 -9.55813937e-03\n",
            " -7.68903131e-03 -6.10069418e-03 -4.76465747e-03 -3.65251023e-03\n",
            " -2.73678219e-03 -1.99155137e-03 -1.39279733e-03 -9.18617181e-04\n",
            " -5.49305347e-04 -2.67340685e-04 -5.73153920e-05  9.41739636e-05]\n",
            "29 day output [[0.00019867]]\n"
          ]
        }
      ]
    },
    {
      "cell_type": "code",
      "metadata": {
        "colab": {
          "base_uri": "https://localhost:8080/"
        },
        "id": "vKjf1kvY9cQD",
        "outputId": "2151ddaf-8773-4c6e-e46b-4d6c2cad844b"
      },
      "source": [
        "print(lst_output)"
      ],
      "execution_count": null,
      "outputs": [
        {
          "output_type": "stream",
          "name": "stdout",
          "text": [
            "[[-0.06207809969782829], [-0.061491627246141434], [-0.05994388461112976], [-0.05742507055401802], [-0.05406941473484039], [-0.05008399859070778], [-0.045695509761571884], [-0.041116099804639816], [-0.036525655537843704], [-0.0320652537047863], [-0.027837736532092094], [-0.023911939933896065], [-0.020328456535935402], [-0.017105570062994957], [-0.0142447454854846], [-0.011735274456441402], [-0.009558139368891716], [-0.007689031306654215], [-0.006100694183260202], [-0.0047646574676036835], [-0.0036525102332234383], [-0.0027367821894586086], [-0.0019915513694286346], [-0.0013927973341196775], [-0.0009186171810142696], [-0.0005493053467944264], [-0.00026734068524092436], [-5.731539204134606e-05], [9.417396358912811e-05], [0.00019866817456204444]]\n"
          ]
        }
      ]
    },
    {
      "cell_type": "code",
      "metadata": {
        "colab": {
          "base_uri": "https://localhost:8080/"
        },
        "id": "6j_YLP5L9ssX",
        "outputId": "e6b3c68f-f230-43f8-9c67-95ee26a392cd"
      },
      "source": [
        "day_new = np.arange(1, 101)\n",
        "day_pred = np.arange(101, 131)\n",
        "import matplotlib.pyplot as plt\n",
        "len(df1)"
      ],
      "execution_count": null,
      "outputs": [
        {
          "output_type": "execute_result",
          "data": {
            "text/plain": [
              "2035"
            ]
          },
          "metadata": {},
          "execution_count": 36
        }
      ]
    },
    {
      "cell_type": "code",
      "metadata": {
        "colab": {
          "base_uri": "https://localhost:8080/",
          "height": 266
        },
        "id": "ZO03KamC9xj9",
        "outputId": "867ca091-4258-433c-fe41-624d87907f46"
      },
      "source": [
        "df3 = df1.tolist()\n",
        "df3.extend(lst_output)\n",
        "\n",
        "plt.plot(day_new, scaler.inverse_transform(df1[1935:]))\n",
        "plt.plot(day_pred, scaler.inverse_transform(lst_output))\n",
        "\n",
        "plt.show()"
      ],
      "execution_count": null,
      "outputs": [
        {
          "output_type": "display_data",
          "data": {
            "image/png": "[encoded data removed]",
            "text/plain": [
              "<Figure size 432x288 with 1 Axes>"
            ]
          },
          "metadata": {
            "needs_background": "light"
          }
        }
      ]
    },
    {
      "cell_type": "code",
      "metadata": {
        "colab": {
          "base_uri": "https://localhost:8080/",
          "height": 282
        },
        "id": "-4jFaMDX90-V",
        "outputId": "dac9fd37-75ee-4517-99a0-367f1409bdea"
      },
      "source": [
        "df3 = df1.tolist()\n",
        "df3.extend(lst_output)\n",
        "plt.plot(df3[1980:])"
      ],
      "execution_count": null,
      "outputs": [
        {
          "output_type": "execute_result",
          "data": {
            "text/plain": [
              "[<matplotlib.lines.Line2D at 0x7fcbfccabe50>]"
            ]
          },
          "metadata": {},
          "execution_count": 39
        },
        {
          "output_type": "display_data",
          "data": {
            "image/png": "[encoded data removed]",
            "text/plain": [
              "<Figure size 432x288 with 1 Axes>"
            ]
          },
          "metadata": {
            "needs_background": "light"
          }
        }
      ]
    },
    {
      "cell_type": "code",
      "metadata": {
        "id": "OKjgEqLm94De"
      },
      "source": [
        "df3 = scaler.inverse_transform(df3).tolist()"
      ],
      "execution_count": null,
      "outputs": []
    },
    {
      "cell_type": "code",
      "metadata": {
        "colab": {
          "base_uri": "https://localhost:8080/",
          "height": 282
        },
        "id": "budO-mux96k0",
        "outputId": "29267ccd-8750-432b-c378-17283bbe0af8"
      },
      "source": [
        "plt.plot(df3)\n"
      ],
      "execution_count": null,
      "outputs": [
        {
          "output_type": "execute_result",
          "data": {
            "text/plain": [
              "[<matplotlib.lines.Line2D at 0x7fcbfcc3e110>]"
            ]
          },
          "metadata": {},
          "execution_count": 41
        },
        {
          "output_type": "display_data",
          "data": {
            "image/png": "[encoded data removed]",
            "text/plain": [
              "<Figure size 432x288 with 1 Axes>"
            ]
          },
          "metadata": {
            "needs_background": "light"
          }
        }
      ]
    }
  ]
}